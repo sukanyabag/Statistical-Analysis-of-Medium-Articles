{
 "cells": [
  {
   "cell_type": "code",
   "execution_count": 1,
   "id": "7aaf9603",
   "metadata": {},
   "outputs": [
    {
     "name": "stdout",
     "output_type": "stream",
     "text": [
      "Defaulting to user installation because normal site-packages is not writeable\n",
      "Collecting sweetviz\n",
      "  Downloading sweetviz-2.1.3-py3-none-any.whl (15.1 MB)\n",
      "Requirement already satisfied: jinja2>=2.11.1 in c:\\users\\sukanya\\appdata\\roaming\\python\\python39\\site-packages (from sweetviz) (3.0.3)\n",
      "Requirement already satisfied: tqdm>=4.43.0 in c:\\users\\sukanya\\appdata\\roaming\\python\\python39\\site-packages (from sweetviz) (4.62.3)\n",
      "Requirement already satisfied: matplotlib>=3.1.3 in c:\\users\\sukanya\\appdata\\roaming\\python\\python39\\site-packages (from sweetviz) (3.5.1)\n",
      "Requirement already satisfied: scipy>=1.3.2 in c:\\users\\sukanya\\appdata\\roaming\\python\\python39\\site-packages (from sweetviz) (1.7.3)\n",
      "Requirement already satisfied: pandas!=1.0.0,!=1.0.1,!=1.0.2,>=0.25.3 in c:\\users\\sukanya\\appdata\\roaming\\python\\python39\\site-packages (from sweetviz) (1.4.0)\n",
      "Requirement already satisfied: numpy>=1.16.0 in c:\\users\\sukanya\\appdata\\roaming\\python\\python39\\site-packages (from sweetviz) (1.22.1)\n",
      "Collecting importlib-resources>=1.2.0\n",
      "  Downloading importlib_resources-5.4.0-py3-none-any.whl (28 kB)\n",
      "Requirement already satisfied: zipp>=3.1.0 in c:\\users\\sukanya\\appdata\\roaming\\python\\python39\\site-packages (from importlib-resources>=1.2.0->sweetviz) (3.7.0)\n",
      "Requirement already satisfied: MarkupSafe>=2.0 in c:\\users\\sukanya\\appdata\\roaming\\python\\python39\\site-packages (from jinja2>=2.11.1->sweetviz) (2.0.1)\n",
      "Requirement already satisfied: python-dateutil>=2.7 in c:\\users\\sukanya\\appdata\\roaming\\python\\python39\\site-packages (from matplotlib>=3.1.3->sweetviz) (2.8.2)\n",
      "Requirement already satisfied: fonttools>=4.22.0 in c:\\users\\sukanya\\appdata\\roaming\\python\\python39\\site-packages (from matplotlib>=3.1.3->sweetviz) (4.28.5)\n",
      "Requirement already satisfied: cycler>=0.10 in c:\\users\\sukanya\\appdata\\roaming\\python\\python39\\site-packages (from matplotlib>=3.1.3->sweetviz) (0.11.0)\n",
      "Requirement already satisfied: pillow>=6.2.0 in c:\\users\\sukanya\\appdata\\roaming\\python\\python39\\site-packages (from matplotlib>=3.1.3->sweetviz) (9.0.0)\n",
      "Requirement already satisfied: packaging>=20.0 in c:\\users\\sukanya\\appdata\\roaming\\python\\python39\\site-packages (from matplotlib>=3.1.3->sweetviz) (21.3)\n",
      "Requirement already satisfied: kiwisolver>=1.0.1 in c:\\users\\sukanya\\appdata\\roaming\\python\\python39\\site-packages (from matplotlib>=3.1.3->sweetviz) (1.3.2)\n",
      "Requirement already satisfied: pyparsing>=2.2.1 in c:\\users\\sukanya\\appdata\\roaming\\python\\python39\\site-packages (from matplotlib>=3.1.3->sweetviz) (3.0.7)"
     ]
    },
    {
     "name": "stderr",
     "output_type": "stream",
     "text": [
      "WARNING: You are using pip version 21.2.4; however, version 21.3.1 is available.\n",
      "You should consider upgrading via the 'C:\\Program Files\\Python\\python.exe -m pip install --upgrade pip' command.\n"
     ]
    },
    {
     "name": "stdout",
     "output_type": "stream",
     "text": [
      "\n",
      "Requirement already satisfied: pytz>=2020.1 in c:\\users\\sukanya\\appdata\\roaming\\python\\python39\\site-packages (from pandas!=1.0.0,!=1.0.1,!=1.0.2,>=0.25.3->sweetviz) (2021.3)\n",
      "Requirement already satisfied: six>=1.5 in c:\\users\\sukanya\\appdata\\roaming\\python\\python39\\site-packages (from python-dateutil>=2.7->matplotlib>=3.1.3->sweetviz) (1.16.0)\n",
      "Requirement already satisfied: colorama in c:\\users\\sukanya\\appdata\\roaming\\python\\python39\\site-packages (from tqdm>=4.43.0->sweetviz) (0.4.4)\n",
      "Installing collected packages: importlib-resources, sweetviz\n",
      "Successfully installed importlib-resources-5.4.0 sweetviz-2.1.3\n"
     ]
    }
   ],
   "source": [
    "!pip install sweetviz"
   ]
  },
  {
   "cell_type": "code",
   "execution_count": 2,
   "id": "c02397f2",
   "metadata": {},
   "outputs": [],
   "source": [
    "#imports \n",
    "import pandas as pd\n",
    "import sweetviz as viz"
   ]
  },
  {
   "cell_type": "code",
   "execution_count": 3,
   "id": "c958d2fc",
   "metadata": {},
   "outputs": [],
   "source": [
    "#loading data\n",
    "data = pd.read_csv('mywriterstats.csv', encoding = 'cp1252')"
   ]
  },
  {
   "cell_type": "code",
   "execution_count": 4,
   "id": "d1e9883b",
   "metadata": {},
   "outputs": [
    {
     "data": {
      "text/html": [
       "<div>\n",
       "<style scoped>\n",
       "    .dataframe tbody tr th:only-of-type {\n",
       "        vertical-align: middle;\n",
       "    }\n",
       "\n",
       "    .dataframe tbody tr th {\n",
       "        vertical-align: top;\n",
       "    }\n",
       "\n",
       "    .dataframe thead th {\n",
       "        text-align: right;\n",
       "    }\n",
       "</style>\n",
       "<table border=\"1\" class=\"dataframe\">\n",
       "  <thead>\n",
       "    <tr style=\"text-align: right;\">\n",
       "      <th></th>\n",
       "      <th>Title</th>\n",
       "      <th>Publication</th>\n",
       "      <th>Read Time</th>\n",
       "      <th>Views</th>\n",
       "      <th>Reads</th>\n",
       "      <th>Read Ratio</th>\n",
       "      <th>Fans</th>\n",
       "    </tr>\n",
       "  </thead>\n",
       "  <tbody>\n",
       "    <tr>\n",
       "      <th>0</th>\n",
       "      <td>The Complete XGBoost Therapy with Python</td>\n",
       "      <td>Python In Plain English</td>\n",
       "      <td>11</td>\n",
       "      <td>438</td>\n",
       "      <td>98</td>\n",
       "      <td>22</td>\n",
       "      <td>19</td>\n",
       "    </tr>\n",
       "    <tr>\n",
       "      <th>1</th>\n",
       "      <td>Federated Learning-A Beginner's Guide</td>\n",
       "      <td>Analytics Vidhya</td>\n",
       "      <td>7</td>\n",
       "      <td>33</td>\n",
       "      <td>21</td>\n",
       "      <td>64</td>\n",
       "      <td>15</td>\n",
       "    </tr>\n",
       "    <tr>\n",
       "      <th>2</th>\n",
       "      <td>Automated Hyperparameter Tuning with Keras Tun...</td>\n",
       "      <td>Analytics Vidhya</td>\n",
       "      <td>7</td>\n",
       "      <td>2200</td>\n",
       "      <td>706</td>\n",
       "      <td>32</td>\n",
       "      <td>37</td>\n",
       "    </tr>\n",
       "    <tr>\n",
       "      <th>3</th>\n",
       "      <td>Text Summarization using BERT, GPT2, XLNet</td>\n",
       "      <td>Analytics Vidhya</td>\n",
       "      <td>6</td>\n",
       "      <td>14600</td>\n",
       "      <td>6300</td>\n",
       "      <td>43</td>\n",
       "      <td>59</td>\n",
       "    </tr>\n",
       "    <tr>\n",
       "      <th>4</th>\n",
       "      <td>Transformers — Let’s Dive Deeeep!</td>\n",
       "      <td>Analytics Vidhya</td>\n",
       "      <td>12</td>\n",
       "      <td>829</td>\n",
       "      <td>256</td>\n",
       "      <td>31</td>\n",
       "      <td>24</td>\n",
       "    </tr>\n",
       "    <tr>\n",
       "      <th>5</th>\n",
       "      <td>Handling Imbalanced Data — Intuition to Implem...</td>\n",
       "      <td>Analytics Vidhya</td>\n",
       "      <td>5</td>\n",
       "      <td>1100</td>\n",
       "      <td>543</td>\n",
       "      <td>48</td>\n",
       "      <td>41</td>\n",
       "    </tr>\n",
       "    <tr>\n",
       "      <th>6</th>\n",
       "      <td>Which Machine Learning Algorithm Should You Us...</td>\n",
       "      <td>Analytics Vidhya</td>\n",
       "      <td>5</td>\n",
       "      <td>29000</td>\n",
       "      <td>9000</td>\n",
       "      <td>31</td>\n",
       "      <td>600</td>\n",
       "    </tr>\n",
       "    <tr>\n",
       "      <th>7</th>\n",
       "      <td>Flasgger —an API playground with Flask and Swa...</td>\n",
       "      <td>Analytics Vidhya</td>\n",
       "      <td>2</td>\n",
       "      <td>6600</td>\n",
       "      <td>3700</td>\n",
       "      <td>56</td>\n",
       "      <td>25</td>\n",
       "    </tr>\n",
       "    <tr>\n",
       "      <th>8</th>\n",
       "      <td>COVID-19 Detector Flask App from Chest X-ray I...</td>\n",
       "      <td>Analytics Vidhya</td>\n",
       "      <td>4</td>\n",
       "      <td>1400</td>\n",
       "      <td>768</td>\n",
       "      <td>54</td>\n",
       "      <td>24</td>\n",
       "    </tr>\n",
       "    <tr>\n",
       "      <th>9</th>\n",
       "      <td>Automated, Quick and Powerful EDA with Sweetvi...</td>\n",
       "      <td>Analytics Vidhya</td>\n",
       "      <td>6</td>\n",
       "      <td>694</td>\n",
       "      <td>312</td>\n",
       "      <td>45</td>\n",
       "      <td>19</td>\n",
       "    </tr>\n",
       "  </tbody>\n",
       "</table>\n",
       "</div>"
      ],
      "text/plain": [
       "                                               Title              Publication  \\\n",
       "0           The Complete XGBoost Therapy with Python  Python In Plain English   \n",
       "1              Federated Learning-A Beginner's Guide         Analytics Vidhya   \n",
       "2  Automated Hyperparameter Tuning with Keras Tun...         Analytics Vidhya   \n",
       "3         Text Summarization using BERT, GPT2, XLNet         Analytics Vidhya   \n",
       "4                  Transformers — Let’s Dive Deeeep!         Analytics Vidhya   \n",
       "5  Handling Imbalanced Data — Intuition to Implem...         Analytics Vidhya   \n",
       "6  Which Machine Learning Algorithm Should You Us...         Analytics Vidhya   \n",
       "7  Flasgger —an API playground with Flask and Swa...         Analytics Vidhya   \n",
       "8  COVID-19 Detector Flask App from Chest X-ray I...         Analytics Vidhya   \n",
       "9  Automated, Quick and Powerful EDA with Sweetvi...         Analytics Vidhya   \n",
       "\n",
       "   Read Time  Views  Reads  Read Ratio  Fans  \n",
       "0         11    438     98          22    19  \n",
       "1          7     33     21          64    15  \n",
       "2          7   2200    706          32    37  \n",
       "3          6  14600   6300          43    59  \n",
       "4         12    829    256          31    24  \n",
       "5          5   1100    543          48    41  \n",
       "6          5  29000   9000          31   600  \n",
       "7          2   6600   3700          56    25  \n",
       "8          4   1400    768          54    24  \n",
       "9          6    694    312          45    19  "
      ]
     },
     "execution_count": 4,
     "metadata": {},
     "output_type": "execute_result"
    }
   ],
   "source": [
    "data.head(10)"
   ]
  },
  {
   "cell_type": "code",
   "execution_count": 6,
   "id": "1cba9148",
   "metadata": {},
   "outputs": [
    {
     "data": {
      "application/vnd.jupyter.widget-view+json": {
       "model_id": "7469c7742e454f26b13e9452c664c5fe",
       "version_major": 2,
       "version_minor": 0
      },
      "text/plain": [
       "                                             |                                             | [  0%]   00:00 ->…"
      ]
     },
     "metadata": {},
     "output_type": "display_data"
    },
    {
     "name": "stderr",
     "output_type": "stream",
     "text": [
      "C:\\Users\\sukanya\\AppData\\Roaming\\Python\\Python39\\site-packages\\sweetviz\\utils.py:34: FutureWarning: The series.append method is deprecated and will be removed from pandas in a future version. Use pandas.concat instead.\n",
      "  clamped_series = clamped_series.append(other_series, ignore_index=False)\n",
      "C:\\Users\\sukanya\\AppData\\Roaming\\Python\\Python39\\site-packages\\sweetviz\\graph_associations.py:223: FutureWarning: The frame.append method is deprecated and will be removed from pandas in a future version. Use pandas.concat instead.\n",
      "  new_dataframe = new_dataframe.append(pd.Series(empty_row_dict, name=feature))\n",
      "C:\\Users\\sukanya\\AppData\\Roaming\\Python\\Python39\\site-packages\\sweetviz\\graph_associations.py:223: FutureWarning: The frame.append method is deprecated and will be removed from pandas in a future version. Use pandas.concat instead.\n",
      "  new_dataframe = new_dataframe.append(pd.Series(empty_row_dict, name=feature))\n",
      "C:\\Users\\sukanya\\AppData\\Roaming\\Python\\Python39\\site-packages\\sweetviz\\graph_associations.py:223: FutureWarning: The frame.append method is deprecated and will be removed from pandas in a future version. Use pandas.concat instead.\n",
      "  new_dataframe = new_dataframe.append(pd.Series(empty_row_dict, name=feature))\n",
      "C:\\Users\\sukanya\\AppData\\Roaming\\Python\\Python39\\site-packages\\sweetviz\\graph_associations.py:223: FutureWarning: The frame.append method is deprecated and will be removed from pandas in a future version. Use pandas.concat instead.\n",
      "  new_dataframe = new_dataframe.append(pd.Series(empty_row_dict, name=feature))\n",
      "C:\\Users\\sukanya\\AppData\\Roaming\\Python\\Python39\\site-packages\\sweetviz\\graph_associations.py:223: FutureWarning: The frame.append method is deprecated and will be removed from pandas in a future version. Use pandas.concat instead.\n",
      "  new_dataframe = new_dataframe.append(pd.Series(empty_row_dict, name=feature))\n",
      "C:\\Users\\sukanya\\AppData\\Roaming\\Python\\Python39\\site-packages\\sweetviz\\graph_associations.py:223: FutureWarning: The frame.append method is deprecated and will be removed from pandas in a future version. Use pandas.concat instead.\n",
      "  new_dataframe = new_dataframe.append(pd.Series(empty_row_dict, name=feature))\n"
     ]
    }
   ],
   "source": [
    "#create a variable called report.\n",
    "\n",
    "report = viz.analyze([data,\"Sukanya's Writer Statistics EDA Report\"], target_feat = 'Fans')"
   ]
  },
  {
   "cell_type": "code",
   "execution_count": 9,
   "id": "2df21ad5",
   "metadata": {},
   "outputs": [
    {
     "name": "stdout",
     "output_type": "stream",
     "text": [
      "Report SWEETVIZ_REPORT.html was generated! NOTEBOOK/COLAB USERS: the web browser MAY not pop up, regardless, the report IS saved in your notebook/colab files.\n"
     ]
    }
   ],
   "source": [
    "report.show_html()"
   ]
  },
  {
   "cell_type": "code",
   "execution_count": null,
   "id": "35bd7072",
   "metadata": {},
   "outputs": [],
   "source": []
  }
 ],
 "metadata": {
  "kernelspec": {
   "display_name": "Python 3 (ipykernel)",
   "language": "python",
   "name": "python3"
  },
  "language_info": {
   "codemirror_mode": {
    "name": "ipython",
    "version": 3
   },
   "file_extension": ".py",
   "mimetype": "text/x-python",
   "name": "python",
   "nbconvert_exporter": "python",
   "pygments_lexer": "ipython3",
   "version": "3.9.7"
  }
 },
 "nbformat": 4,
 "nbformat_minor": 5
}
